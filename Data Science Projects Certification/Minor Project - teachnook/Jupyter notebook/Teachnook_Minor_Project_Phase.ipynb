{
 "cells": [
  {
   "cell_type": "markdown",
   "id": "3b41af7e",
   "metadata": {},
   "source": [
    "# Project Description\n",
    "\n",
    "### Business Context\n",
    "\n",
    "The data is related to direct marketing campaigns (phone calls) of a Portuguese banking institution. The marketing campaigns were based on phone calls. Often, more than one contact to the same client was required, in order to assess if the product (bank term deposit) would be ('yes') or not ('no') subscribed. The classification goal is to predict if the client will subscribe to a term deposit (variable y)."
   ]
  },
  {
   "cell_type": "markdown",
   "id": "1be8c2de",
   "metadata": {},
   "source": [
    "## Submitted by      \n",
    "\n",
    "**Yashwant Aaditya**                                                                                                         \n"
   ]
  },
  {
   "cell_type": "markdown",
   "id": "64f2c2b5",
   "metadata": {},
   "source": [
    "**Submitted to -Teachnook,**\n",
    "**Course - Data Analytics Pro Program,** \n",
    "**Batch - February 2023**"
   ]
  },
  {
   "cell_type": "code",
   "execution_count": 1,
   "id": "051e5a0a",
   "metadata": {},
   "outputs": [],
   "source": [
    "#Importing the libraries\n",
    "import numpy as np\n",
    "import pandas as pd\n",
    "import matplotlib.pyplot as plt\n",
    "import seaborn as sns\n",
    "%matplotlib inline\n",
    "import warnings\n",
    "warnings.filterwarnings(\"ignore\")"
   ]
  },
  {
   "cell_type": "code",
   "execution_count": 2,
   "id": "ae0330ea",
   "metadata": {},
   "outputs": [
    {
     "data": {
      "text/html": [
       "<div>\n",
       "<style scoped>\n",
       "    .dataframe tbody tr th:only-of-type {\n",
       "        vertical-align: middle;\n",
       "    }\n",
       "\n",
       "    .dataframe tbody tr th {\n",
       "        vertical-align: top;\n",
       "    }\n",
       "\n",
       "    .dataframe thead th {\n",
       "        text-align: right;\n",
       "    }\n",
       "</style>\n",
       "<table border=\"1\" class=\"dataframe\">\n",
       "  <thead>\n",
       "    <tr style=\"text-align: right;\">\n",
       "      <th></th>\n",
       "      <th>age</th>\n",
       "      <th>job</th>\n",
       "      <th>marital</th>\n",
       "      <th>education</th>\n",
       "      <th>default</th>\n",
       "      <th>balance</th>\n",
       "      <th>housing</th>\n",
       "      <th>loan</th>\n",
       "      <th>contact</th>\n",
       "      <th>day</th>\n",
       "      <th>month</th>\n",
       "      <th>duration</th>\n",
       "      <th>campaign</th>\n",
       "      <th>pdays</th>\n",
       "      <th>previous</th>\n",
       "      <th>poutcome</th>\n",
       "      <th>y</th>\n",
       "    </tr>\n",
       "  </thead>\n",
       "  <tbody>\n",
       "    <tr>\n",
       "      <th>0</th>\n",
       "      <td>58</td>\n",
       "      <td>management</td>\n",
       "      <td>married</td>\n",
       "      <td>tertiary</td>\n",
       "      <td>no</td>\n",
       "      <td>2143</td>\n",
       "      <td>yes</td>\n",
       "      <td>no</td>\n",
       "      <td>unknown</td>\n",
       "      <td>5</td>\n",
       "      <td>may</td>\n",
       "      <td>261</td>\n",
       "      <td>1</td>\n",
       "      <td>-1</td>\n",
       "      <td>0</td>\n",
       "      <td>unknown</td>\n",
       "      <td>no</td>\n",
       "    </tr>\n",
       "    <tr>\n",
       "      <th>1</th>\n",
       "      <td>44</td>\n",
       "      <td>technician</td>\n",
       "      <td>single</td>\n",
       "      <td>secondary</td>\n",
       "      <td>no</td>\n",
       "      <td>29</td>\n",
       "      <td>yes</td>\n",
       "      <td>no</td>\n",
       "      <td>unknown</td>\n",
       "      <td>5</td>\n",
       "      <td>may</td>\n",
       "      <td>151</td>\n",
       "      <td>1</td>\n",
       "      <td>-1</td>\n",
       "      <td>0</td>\n",
       "      <td>unknown</td>\n",
       "      <td>no</td>\n",
       "    </tr>\n",
       "    <tr>\n",
       "      <th>2</th>\n",
       "      <td>33</td>\n",
       "      <td>entrepreneur</td>\n",
       "      <td>married</td>\n",
       "      <td>secondary</td>\n",
       "      <td>no</td>\n",
       "      <td>2</td>\n",
       "      <td>yes</td>\n",
       "      <td>yes</td>\n",
       "      <td>unknown</td>\n",
       "      <td>5</td>\n",
       "      <td>may</td>\n",
       "      <td>76</td>\n",
       "      <td>1</td>\n",
       "      <td>-1</td>\n",
       "      <td>0</td>\n",
       "      <td>unknown</td>\n",
       "      <td>no</td>\n",
       "    </tr>\n",
       "    <tr>\n",
       "      <th>3</th>\n",
       "      <td>47</td>\n",
       "      <td>blue-collar</td>\n",
       "      <td>married</td>\n",
       "      <td>unknown</td>\n",
       "      <td>no</td>\n",
       "      <td>1506</td>\n",
       "      <td>yes</td>\n",
       "      <td>no</td>\n",
       "      <td>unknown</td>\n",
       "      <td>5</td>\n",
       "      <td>may</td>\n",
       "      <td>92</td>\n",
       "      <td>1</td>\n",
       "      <td>-1</td>\n",
       "      <td>0</td>\n",
       "      <td>unknown</td>\n",
       "      <td>no</td>\n",
       "    </tr>\n",
       "    <tr>\n",
       "      <th>4</th>\n",
       "      <td>33</td>\n",
       "      <td>unknown</td>\n",
       "      <td>single</td>\n",
       "      <td>unknown</td>\n",
       "      <td>no</td>\n",
       "      <td>1</td>\n",
       "      <td>no</td>\n",
       "      <td>no</td>\n",
       "      <td>unknown</td>\n",
       "      <td>5</td>\n",
       "      <td>may</td>\n",
       "      <td>198</td>\n",
       "      <td>1</td>\n",
       "      <td>-1</td>\n",
       "      <td>0</td>\n",
       "      <td>unknown</td>\n",
       "      <td>no</td>\n",
       "    </tr>\n",
       "    <tr>\n",
       "      <th>...</th>\n",
       "      <td>...</td>\n",
       "      <td>...</td>\n",
       "      <td>...</td>\n",
       "      <td>...</td>\n",
       "      <td>...</td>\n",
       "      <td>...</td>\n",
       "      <td>...</td>\n",
       "      <td>...</td>\n",
       "      <td>...</td>\n",
       "      <td>...</td>\n",
       "      <td>...</td>\n",
       "      <td>...</td>\n",
       "      <td>...</td>\n",
       "      <td>...</td>\n",
       "      <td>...</td>\n",
       "      <td>...</td>\n",
       "      <td>...</td>\n",
       "    </tr>\n",
       "    <tr>\n",
       "      <th>45206</th>\n",
       "      <td>51</td>\n",
       "      <td>technician</td>\n",
       "      <td>married</td>\n",
       "      <td>tertiary</td>\n",
       "      <td>no</td>\n",
       "      <td>825</td>\n",
       "      <td>no</td>\n",
       "      <td>no</td>\n",
       "      <td>cellular</td>\n",
       "      <td>17</td>\n",
       "      <td>nov</td>\n",
       "      <td>977</td>\n",
       "      <td>3</td>\n",
       "      <td>-1</td>\n",
       "      <td>0</td>\n",
       "      <td>unknown</td>\n",
       "      <td>yes</td>\n",
       "    </tr>\n",
       "    <tr>\n",
       "      <th>45207</th>\n",
       "      <td>71</td>\n",
       "      <td>retired</td>\n",
       "      <td>divorced</td>\n",
       "      <td>primary</td>\n",
       "      <td>no</td>\n",
       "      <td>1729</td>\n",
       "      <td>no</td>\n",
       "      <td>no</td>\n",
       "      <td>cellular</td>\n",
       "      <td>17</td>\n",
       "      <td>nov</td>\n",
       "      <td>456</td>\n",
       "      <td>2</td>\n",
       "      <td>-1</td>\n",
       "      <td>0</td>\n",
       "      <td>unknown</td>\n",
       "      <td>yes</td>\n",
       "    </tr>\n",
       "    <tr>\n",
       "      <th>45208</th>\n",
       "      <td>72</td>\n",
       "      <td>retired</td>\n",
       "      <td>married</td>\n",
       "      <td>secondary</td>\n",
       "      <td>no</td>\n",
       "      <td>5715</td>\n",
       "      <td>no</td>\n",
       "      <td>no</td>\n",
       "      <td>cellular</td>\n",
       "      <td>17</td>\n",
       "      <td>nov</td>\n",
       "      <td>1127</td>\n",
       "      <td>5</td>\n",
       "      <td>184</td>\n",
       "      <td>3</td>\n",
       "      <td>success</td>\n",
       "      <td>yes</td>\n",
       "    </tr>\n",
       "    <tr>\n",
       "      <th>45209</th>\n",
       "      <td>57</td>\n",
       "      <td>blue-collar</td>\n",
       "      <td>married</td>\n",
       "      <td>secondary</td>\n",
       "      <td>no</td>\n",
       "      <td>668</td>\n",
       "      <td>no</td>\n",
       "      <td>no</td>\n",
       "      <td>telephone</td>\n",
       "      <td>17</td>\n",
       "      <td>nov</td>\n",
       "      <td>508</td>\n",
       "      <td>4</td>\n",
       "      <td>-1</td>\n",
       "      <td>0</td>\n",
       "      <td>unknown</td>\n",
       "      <td>no</td>\n",
       "    </tr>\n",
       "    <tr>\n",
       "      <th>45210</th>\n",
       "      <td>37</td>\n",
       "      <td>entrepreneur</td>\n",
       "      <td>married</td>\n",
       "      <td>secondary</td>\n",
       "      <td>no</td>\n",
       "      <td>2971</td>\n",
       "      <td>no</td>\n",
       "      <td>no</td>\n",
       "      <td>cellular</td>\n",
       "      <td>17</td>\n",
       "      <td>nov</td>\n",
       "      <td>361</td>\n",
       "      <td>2</td>\n",
       "      <td>188</td>\n",
       "      <td>11</td>\n",
       "      <td>other</td>\n",
       "      <td>no</td>\n",
       "    </tr>\n",
       "  </tbody>\n",
       "</table>\n",
       "<p>45211 rows × 17 columns</p>\n",
       "</div>"
      ],
      "text/plain": [
       "       age           job   marital  education default  balance housing loan  \\\n",
       "0       58    management   married   tertiary      no     2143     yes   no   \n",
       "1       44    technician    single  secondary      no       29     yes   no   \n",
       "2       33  entrepreneur   married  secondary      no        2     yes  yes   \n",
       "3       47   blue-collar   married    unknown      no     1506     yes   no   \n",
       "4       33       unknown    single    unknown      no        1      no   no   \n",
       "...    ...           ...       ...        ...     ...      ...     ...  ...   \n",
       "45206   51    technician   married   tertiary      no      825      no   no   \n",
       "45207   71       retired  divorced    primary      no     1729      no   no   \n",
       "45208   72       retired   married  secondary      no     5715      no   no   \n",
       "45209   57   blue-collar   married  secondary      no      668      no   no   \n",
       "45210   37  entrepreneur   married  secondary      no     2971      no   no   \n",
       "\n",
       "         contact  day month  duration  campaign  pdays  previous poutcome    y  \n",
       "0        unknown    5   may       261         1     -1         0  unknown   no  \n",
       "1        unknown    5   may       151         1     -1         0  unknown   no  \n",
       "2        unknown    5   may        76         1     -1         0  unknown   no  \n",
       "3        unknown    5   may        92         1     -1         0  unknown   no  \n",
       "4        unknown    5   may       198         1     -1         0  unknown   no  \n",
       "...          ...  ...   ...       ...       ...    ...       ...      ...  ...  \n",
       "45206   cellular   17   nov       977         3     -1         0  unknown  yes  \n",
       "45207   cellular   17   nov       456         2     -1         0  unknown  yes  \n",
       "45208   cellular   17   nov      1127         5    184         3  success  yes  \n",
       "45209  telephone   17   nov       508         4     -1         0  unknown   no  \n",
       "45210   cellular   17   nov       361         2    188        11    other   no  \n",
       "\n",
       "[45211 rows x 17 columns]"
      ]
     },
     "execution_count": 2,
     "metadata": {},
     "output_type": "execute_result"
    }
   ],
   "source": [
    "bank = pd.read_csv(\"bank-full.csv\", sep=';')\n",
    "bank"
   ]
  },
  {
   "cell_type": "code",
   "execution_count": 3,
   "id": "3aa1329d",
   "metadata": {},
   "outputs": [
    {
     "data": {
      "text/plain": [
       "Index(['age', 'job', 'marital', 'education', 'default', 'balance', 'housing',\n",
       "       'loan', 'contact', 'day', 'month', 'duration', 'campaign', 'pdays',\n",
       "       'previous', 'poutcome', 'y'],\n",
       "      dtype='object')"
      ]
     },
     "execution_count": 3,
     "metadata": {},
     "output_type": "execute_result"
    }
   ],
   "source": [
    "bank.columns"
   ]
  },
  {
   "cell_type": "code",
   "execution_count": 4,
   "id": "3340b909",
   "metadata": {},
   "outputs": [
    {
     "name": "stdout",
     "output_type": "stream",
     "text": [
      "<class 'pandas.core.frame.DataFrame'>\n",
      "RangeIndex: 45211 entries, 0 to 45210\n",
      "Data columns (total 17 columns):\n",
      " #   Column     Non-Null Count  Dtype \n",
      "---  ------     --------------  ----- \n",
      " 0   age        45211 non-null  int64 \n",
      " 1   job        45211 non-null  object\n",
      " 2   marital    45211 non-null  object\n",
      " 3   education  45211 non-null  object\n",
      " 4   default    45211 non-null  object\n",
      " 5   balance    45211 non-null  int64 \n",
      " 6   housing    45211 non-null  object\n",
      " 7   loan       45211 non-null  object\n",
      " 8   contact    45211 non-null  object\n",
      " 9   day        45211 non-null  int64 \n",
      " 10  month      45211 non-null  object\n",
      " 11  duration   45211 non-null  int64 \n",
      " 12  campaign   45211 non-null  int64 \n",
      " 13  pdays      45211 non-null  int64 \n",
      " 14  previous   45211 non-null  int64 \n",
      " 15  poutcome   45211 non-null  object\n",
      " 16  y          45211 non-null  object\n",
      "dtypes: int64(7), object(10)\n",
      "memory usage: 5.9+ MB\n"
     ]
    }
   ],
   "source": [
    "bank.info()"
   ]
  },
  {
   "cell_type": "code",
   "execution_count": 5,
   "id": "92a76054",
   "metadata": {},
   "outputs": [
    {
     "data": {
      "text/plain": [
       "(45211, 17)"
      ]
     },
     "execution_count": 5,
     "metadata": {},
     "output_type": "execute_result"
    }
   ],
   "source": [
    "bank.shape"
   ]
  },
  {
   "cell_type": "code",
   "execution_count": 6,
   "id": "912e7b07",
   "metadata": {},
   "outputs": [
    {
     "data": {
      "text/html": [
       "<div>\n",
       "<style scoped>\n",
       "    .dataframe tbody tr th:only-of-type {\n",
       "        vertical-align: middle;\n",
       "    }\n",
       "\n",
       "    .dataframe tbody tr th {\n",
       "        vertical-align: top;\n",
       "    }\n",
       "\n",
       "    .dataframe thead th {\n",
       "        text-align: right;\n",
       "    }\n",
       "</style>\n",
       "<table border=\"1\" class=\"dataframe\">\n",
       "  <thead>\n",
       "    <tr style=\"text-align: right;\">\n",
       "      <th></th>\n",
       "      <th>age</th>\n",
       "      <th>balance</th>\n",
       "      <th>day</th>\n",
       "      <th>duration</th>\n",
       "      <th>campaign</th>\n",
       "      <th>pdays</th>\n",
       "      <th>previous</th>\n",
       "    </tr>\n",
       "  </thead>\n",
       "  <tbody>\n",
       "    <tr>\n",
       "      <th>count</th>\n",
       "      <td>45211.000000</td>\n",
       "      <td>45211.000000</td>\n",
       "      <td>45211.000000</td>\n",
       "      <td>45211.000000</td>\n",
       "      <td>45211.000000</td>\n",
       "      <td>45211.000000</td>\n",
       "      <td>45211.000000</td>\n",
       "    </tr>\n",
       "    <tr>\n",
       "      <th>mean</th>\n",
       "      <td>40.936210</td>\n",
       "      <td>1362.272058</td>\n",
       "      <td>15.806419</td>\n",
       "      <td>258.163080</td>\n",
       "      <td>2.763841</td>\n",
       "      <td>40.197828</td>\n",
       "      <td>0.580323</td>\n",
       "    </tr>\n",
       "    <tr>\n",
       "      <th>std</th>\n",
       "      <td>10.618762</td>\n",
       "      <td>3044.765829</td>\n",
       "      <td>8.322476</td>\n",
       "      <td>257.527812</td>\n",
       "      <td>3.098021</td>\n",
       "      <td>100.128746</td>\n",
       "      <td>2.303441</td>\n",
       "    </tr>\n",
       "    <tr>\n",
       "      <th>min</th>\n",
       "      <td>18.000000</td>\n",
       "      <td>-8019.000000</td>\n",
       "      <td>1.000000</td>\n",
       "      <td>0.000000</td>\n",
       "      <td>1.000000</td>\n",
       "      <td>-1.000000</td>\n",
       "      <td>0.000000</td>\n",
       "    </tr>\n",
       "    <tr>\n",
       "      <th>25%</th>\n",
       "      <td>33.000000</td>\n",
       "      <td>72.000000</td>\n",
       "      <td>8.000000</td>\n",
       "      <td>103.000000</td>\n",
       "      <td>1.000000</td>\n",
       "      <td>-1.000000</td>\n",
       "      <td>0.000000</td>\n",
       "    </tr>\n",
       "    <tr>\n",
       "      <th>50%</th>\n",
       "      <td>39.000000</td>\n",
       "      <td>448.000000</td>\n",
       "      <td>16.000000</td>\n",
       "      <td>180.000000</td>\n",
       "      <td>2.000000</td>\n",
       "      <td>-1.000000</td>\n",
       "      <td>0.000000</td>\n",
       "    </tr>\n",
       "    <tr>\n",
       "      <th>75%</th>\n",
       "      <td>48.000000</td>\n",
       "      <td>1428.000000</td>\n",
       "      <td>21.000000</td>\n",
       "      <td>319.000000</td>\n",
       "      <td>3.000000</td>\n",
       "      <td>-1.000000</td>\n",
       "      <td>0.000000</td>\n",
       "    </tr>\n",
       "    <tr>\n",
       "      <th>max</th>\n",
       "      <td>95.000000</td>\n",
       "      <td>102127.000000</td>\n",
       "      <td>31.000000</td>\n",
       "      <td>4918.000000</td>\n",
       "      <td>63.000000</td>\n",
       "      <td>871.000000</td>\n",
       "      <td>275.000000</td>\n",
       "    </tr>\n",
       "  </tbody>\n",
       "</table>\n",
       "</div>"
      ],
      "text/plain": [
       "                age        balance           day      duration      campaign  \\\n",
       "count  45211.000000   45211.000000  45211.000000  45211.000000  45211.000000   \n",
       "mean      40.936210    1362.272058     15.806419    258.163080      2.763841   \n",
       "std       10.618762    3044.765829      8.322476    257.527812      3.098021   \n",
       "min       18.000000   -8019.000000      1.000000      0.000000      1.000000   \n",
       "25%       33.000000      72.000000      8.000000    103.000000      1.000000   \n",
       "50%       39.000000     448.000000     16.000000    180.000000      2.000000   \n",
       "75%       48.000000    1428.000000     21.000000    319.000000      3.000000   \n",
       "max       95.000000  102127.000000     31.000000   4918.000000     63.000000   \n",
       "\n",
       "              pdays      previous  \n",
       "count  45211.000000  45211.000000  \n",
       "mean      40.197828      0.580323  \n",
       "std      100.128746      2.303441  \n",
       "min       -1.000000      0.000000  \n",
       "25%       -1.000000      0.000000  \n",
       "50%       -1.000000      0.000000  \n",
       "75%       -1.000000      0.000000  \n",
       "max      871.000000    275.000000  "
      ]
     },
     "execution_count": 6,
     "metadata": {},
     "output_type": "execute_result"
    }
   ],
   "source": [
    "bank.describe()"
   ]
  },
  {
   "cell_type": "code",
   "execution_count": 7,
   "id": "67c0277c",
   "metadata": {},
   "outputs": [
    {
     "name": "stdout",
     "output_type": "stream",
     "text": [
      "job\n",
      "['management' 'technician' 'entrepreneur' 'blue-collar' 'unknown'\n",
      " 'retired' 'admin.' 'services' 'self-employed' 'unemployed' 'housemaid'\n",
      " 'student']\n",
      "marital\n",
      "['married' 'single' 'divorced']\n",
      "education\n",
      "['tertiary' 'secondary' 'unknown' 'primary']\n",
      "default\n",
      "['no' 'yes']\n",
      "housing\n",
      "['yes' 'no']\n",
      "loan\n",
      "['no' 'yes']\n",
      "contact\n",
      "['unknown' 'cellular' 'telephone']\n",
      "month\n",
      "['may' 'jun' 'jul' 'aug' 'oct' 'nov' 'dec' 'jan' 'feb' 'mar' 'apr' 'sep']\n",
      "poutcome\n",
      "['unknown' 'failure' 'other' 'success']\n",
      "y\n",
      "['no' 'yes']\n"
     ]
    }
   ],
   "source": [
    "for col in bank.select_dtypes(include='object').columns:\n",
    "    print(col)\n",
    "    print(bank[col].unique())"
   ]
  },
  {
   "cell_type": "code",
   "execution_count": 8,
   "id": "d54b1930",
   "metadata": {},
   "outputs": [
    {
     "data": {
      "text/plain": [
       "Index(['age', 'job', 'marital', 'education', 'default', 'balance', 'housing',\n",
       "       'loan', 'contact', 'day', 'month', 'duration', 'campaign', 'pdays',\n",
       "       'previous', 'poutcome', 'deposit'],\n",
       "      dtype='object')"
      ]
     },
     "execution_count": 8,
     "metadata": {},
     "output_type": "execute_result"
    }
   ],
   "source": [
    "bank.rename(columns={\"y\": \"deposit\"}, inplace=True)\n",
    "bank.columns"
   ]
  },
  {
   "cell_type": "markdown",
   "id": "2ef92714",
   "metadata": {},
   "source": [
    "#### Finding missing values"
   ]
  },
  {
   "cell_type": "code",
   "execution_count": 9,
   "id": "16bc6f73",
   "metadata": {},
   "outputs": [
    {
     "name": "stdout",
     "output_type": "stream",
     "text": [
      "No missing value found\n"
     ]
    }
   ],
   "source": [
    "features_na = [features for features in bank.columns if bank[features].isnull().sum() > 0]\n",
    "for feature in features_na:\n",
    "    print(feature, np.round(df[feature].isnull().mean(), 4),  ' % missing values')\n",
    "else:\n",
    "    print(\"No missing value found\")"
   ]
  },
  {
   "cell_type": "markdown",
   "id": "cb140dc3",
   "metadata": {},
   "source": [
    "**Take-away**:\n",
    "- No missing value found"
   ]
  },
  {
   "cell_type": "markdown",
   "id": "4553708d",
   "metadata": {},
   "source": [
    "**Finding Features with One Value**"
   ]
  },
  {
   "cell_type": "code",
   "execution_count": 10,
   "id": "7b30469e",
   "metadata": {},
   "outputs": [
    {
     "name": "stdout",
     "output_type": "stream",
     "text": [
      "age 77\n",
      "job 12\n",
      "marital 3\n",
      "education 4\n",
      "default 2\n",
      "balance 7168\n",
      "housing 2\n",
      "loan 2\n",
      "contact 3\n",
      "day 31\n",
      "month 12\n",
      "duration 1573\n",
      "campaign 48\n",
      "pdays 559\n",
      "previous 41\n",
      "poutcome 4\n",
      "deposit 2\n"
     ]
    }
   ],
   "source": [
    "for column in bank.columns:\n",
    "    print(column,bank[column].nunique())"
   ]
  },
  {
   "cell_type": "markdown",
   "id": "a5d064ac",
   "metadata": {},
   "source": [
    "**Take-away**:\n",
    "- No feature with only one value"
   ]
  },
  {
   "cell_type": "markdown",
   "id": "f7cb2c24",
   "metadata": {},
   "source": [
    "###  Explore the Categorical Features"
   ]
  },
  {
   "cell_type": "code",
   "execution_count": 11,
   "id": "2d43450c",
   "metadata": {},
   "outputs": [
    {
     "data": {
      "text/plain": [
       "['job',\n",
       " 'marital',\n",
       " 'education',\n",
       " 'default',\n",
       " 'housing',\n",
       " 'loan',\n",
       " 'contact',\n",
       " 'month',\n",
       " 'poutcome']"
      ]
     },
     "execution_count": 11,
     "metadata": {},
     "output_type": "execute_result"
    }
   ],
   "source": [
    "categorical_features=[feature for feature in bank.columns if ((bank[feature].dtypes=='O') & (feature not in ['deposit']))]\n",
    "categorical_features"
   ]
  },
  {
   "cell_type": "code",
   "execution_count": 12,
   "id": "ef21a308",
   "metadata": {
    "scrolled": true
   },
   "outputs": [
    {
     "name": "stdout",
     "output_type": "stream",
     "text": [
      "The feature is job and number of categories are 12\n",
      "The feature is marital and number of categories are 3\n",
      "The feature is education and number of categories are 4\n",
      "The feature is default and number of categories are 2\n",
      "The feature is housing and number of categories are 2\n",
      "The feature is loan and number of categories are 2\n",
      "The feature is contact and number of categories are 3\n",
      "The feature is month and number of categories are 12\n",
      "The feature is poutcome and number of categories are 4\n"
     ]
    }
   ],
   "source": [
    "for feature in categorical_features:\n",
    "    print('The feature is {} and number of categories are {}'.format(feature,len(bank[feature].unique())))"
   ]
  },
  {
   "cell_type": "markdown",
   "id": "ede5da6d",
   "metadata": {},
   "source": [
    "**Take-away**:\n",
    "- there are 9 categorical features\n",
    "- feature job and month has highest number of categorical values"
   ]
  },
  {
   "cell_type": "markdown",
   "id": "3475c658",
   "metadata": {},
   "source": [
    "#### Categorical Feature Distribution"
   ]
  },
  {
   "cell_type": "code",
   "execution_count": 13,
   "id": "48b8d110",
   "metadata": {},
   "outputs": [
    {
     "data": {
      "image/png": "[encoded data removed]",
      "text/plain": [
       "<Figure size 1080x5760 with 9 Axes>"
      ]
     },
     "metadata": {},
     "output_type": "display_data"
    }
   ],
   "source": [
    "plt.figure(figsize=(15,80), facecolor='white')\n",
    "plotnumber =1\n",
    "for categorical_feature in categorical_features:\n",
    "    ax = plt.subplot(12,3,plotnumber)\n",
    "    sns.countplot(y=categorical_feature,data=bank)\n",
    "    plt.xlabel(categorical_feature)\n",
    "    plt.title(categorical_feature)\n",
    "    plotnumber+=1\n",
    "plt.show()"
   ]
  },
  {
   "cell_type": "markdown",
   "id": "454bbd13",
   "metadata": {},
   "source": [
    "**Take-away**:\n",
    "- client with job type as management records are high in given dataset and housemaid are very less\n",
    "- client who married are high in records in given dataset and divorced are less\n",
    "- client whoes education background is secondary are in high numbers in given dataset\n",
    "- defualt feature seems to be does not play importand role as it has value of no at high ratio to value yes which can drop\n",
    "- data in month of may is high and less in dec"
   ]
  },
  {
   "cell_type": "code",
   "execution_count": 14,
   "id": "c1f7784b",
   "metadata": {
    "scrolled": false
   },
   "outputs": [
    {
     "data": {
      "image/png": "[encoded data removed]",
      "text/plain": [
       "<Figure size 4320x360 with 12 Axes>"
      ]
     },
     "metadata": {
      "needs_background": "light"
     },
     "output_type": "display_data"
    },
    {
     "data": {
      "image/png": "[encoded data removed]",
      "text/plain": [
       "<Figure size 1080x360 with 3 Axes>"
      ]
     },
     "metadata": {
      "needs_background": "light"
     },
     "output_type": "display_data"
    },
    {
     "data": {
      "image/png": "[encoded data removed]",
      "text/plain": [
       "<Figure size 1440x360 with 4 Axes>"
      ]
     },
     "metadata": {
      "needs_background": "light"
     },
     "output_type": "display_data"
    },
    {
     "data": {
      "image/png": "[encoded data removed]",
      "text/plain": [
       "<Figure size 720x360 with 2 Axes>"
      ]
     },
     "metadata": {
      "needs_background": "light"
     },
     "output_type": "display_data"
    },
    {
     "data": {
      "image/png": "[encoded data removed]",
      "text/plain": [
       "<Figure size 720x360 with 2 Axes>"
      ]
     },
     "metadata": {
      "needs_background": "light"
     },
     "output_type": "display_data"
    },
    {
     "data": {
      "image/png": "[encoded data removed]",
      "text/plain": [
       "<Figure size 720x360 with 2 Axes>"
      ]
     },
     "metadata": {
      "needs_background": "light"
     },
     "output_type": "display_data"
    },
    {
     "data": {
      "image/png": "[encoded data removed]",
      "text/plain": [
       "<Figure size 1080x360 with 3 Axes>"
      ]
     },
     "metadata": {
      "needs_background": "light"
     },
     "output_type": "display_data"
    },
    {
     "data": {
      "image/png": "[encoded data removed]",
      "text/plain": [
       "<Figure size 4320x360 with 12 Axes>"
      ]
     },
     "metadata": {
      "needs_background": "light"
     },
     "output_type": "display_data"
    },
    {
     "data": {
      "image/png": "[encoded data removed]",
      "text/plain": [
       "<Figure size 1440x360 with 4 Axes>"
      ]
     },
     "metadata": {
      "needs_background": "light"
     },
     "output_type": "display_data"
    }
   ],
   "source": [
    "for categorical_feature in categorical_features:\n",
    "    sns.catplot(x='deposit', col=categorical_feature, kind='count', data= bank)\n",
    "plt.show()"
   ]
  },
  {
   "cell_type": "code",
   "execution_count": 15,
   "id": "94cbbedf",
   "metadata": {
    "scrolled": false
   },
   "outputs": [
    {
     "name": "stdout",
     "output_type": "stream",
     "text": [
      "deposit  job          \n",
      "no       admin.           4540\n",
      "         blue-collar      9024\n",
      "         entrepreneur     1364\n",
      "         housemaid        1131\n",
      "         management       8157\n",
      "         retired          1748\n",
      "         self-employed    1392\n",
      "         services         3785\n",
      "         student           669\n",
      "         technician       6757\n",
      "         unemployed       1101\n",
      "         unknown           254\n",
      "yes      admin.            631\n",
      "         blue-collar       708\n",
      "         entrepreneur      123\n",
      "         housemaid         109\n",
      "         management       1301\n",
      "         retired           516\n",
      "         self-employed     187\n",
      "         services          369\n",
      "         student           269\n",
      "         technician        840\n",
      "         unemployed        202\n",
      "         unknown            34\n",
      "dtype: int64\n",
      "deposit  marital \n",
      "no       divorced     4585\n",
      "         married     24459\n",
      "         single      10878\n",
      "yes      divorced      622\n",
      "         married      2755\n",
      "         single       1912\n",
      "dtype: int64\n",
      "deposit  education\n",
      "no       primary       6260\n",
      "         secondary    20752\n",
      "         tertiary     11305\n",
      "         unknown       1605\n",
      "yes      primary        591\n",
      "         secondary     2450\n",
      "         tertiary      1996\n",
      "         unknown        252\n",
      "dtype: int64\n",
      "deposit  default\n",
      "no       no         39159\n",
      "         yes          763\n",
      "yes      no          5237\n",
      "         yes           52\n",
      "dtype: int64\n",
      "deposit  housing\n",
      "no       no         16727\n",
      "         yes        23195\n",
      "yes      no          3354\n",
      "         yes         1935\n",
      "dtype: int64\n",
      "deposit  loan\n",
      "no       no      33162\n",
      "         yes      6760\n",
      "yes      no       4805\n",
      "         yes       484\n",
      "dtype: int64\n",
      "deposit  contact  \n",
      "no       cellular     24916\n",
      "         telephone     2516\n",
      "         unknown      12490\n",
      "yes      cellular      4369\n",
      "         telephone      390\n",
      "         unknown        530\n",
      "dtype: int64\n",
      "deposit  month\n",
      "no       apr       2355\n",
      "         aug       5559\n",
      "         dec        114\n",
      "         feb       2208\n",
      "         jan       1261\n",
      "         jul       6268\n",
      "         jun       4795\n",
      "         mar        229\n",
      "         may      12841\n",
      "         nov       3567\n",
      "         oct        415\n",
      "         sep        310\n",
      "yes      apr        577\n",
      "         aug        688\n",
      "         dec        100\n",
      "         feb        441\n",
      "         jan        142\n",
      "         jul        627\n",
      "         jun        546\n",
      "         mar        248\n",
      "         may        925\n",
      "         nov        403\n",
      "         oct        323\n",
      "         sep        269\n",
      "dtype: int64\n",
      "deposit  poutcome\n",
      "no       failure      4283\n",
      "         other        1533\n",
      "         success       533\n",
      "         unknown     33573\n",
      "yes      failure       618\n",
      "         other         307\n",
      "         success       978\n",
      "         unknown      3386\n",
      "dtype: int64\n"
     ]
    }
   ],
   "source": [
    "for categorical_feature in categorical_features:\n",
    "    print(bank.groupby(['deposit',categorical_feature]).size())"
   ]
  },
  {
   "cell_type": "markdown",
   "id": "366c4c9e",
   "metadata": {},
   "source": [
    "**Take-away**:\n",
    "- retired client has high interest on deposit\n",
    "- client who has housing loan seems to be not interested much on deposit\n",
    "- if pre campagin outcome that is poutcome=success then, there is high chance of client to show interest on deposit\n",
    "- in month of March, September, October and December, client show high interest to deposit\n",
    "- in month of may, records are high but client interst ratio is very less"
   ]
  },
  {
   "cell_type": "markdown",
   "id": "2769a53d",
   "metadata": {},
   "source": [
    "**Explore the Numerical Features**"
   ]
  },
  {
   "cell_type": "code",
   "execution_count": 16,
   "id": "fe5212ca",
   "metadata": {},
   "outputs": [
    {
     "name": "stdout",
     "output_type": "stream",
     "text": [
      "Number of numerical variables:  7\n"
     ]
    },
    {
     "data": {
      "text/html": [
       "<div>\n",
       "<style scoped>\n",
       "    .dataframe tbody tr th:only-of-type {\n",
       "        vertical-align: middle;\n",
       "    }\n",
       "\n",
       "    .dataframe tbody tr th {\n",
       "        vertical-align: top;\n",
       "    }\n",
       "\n",
       "    .dataframe thead th {\n",
       "        text-align: right;\n",
       "    }\n",
       "</style>\n",
       "<table border=\"1\" class=\"dataframe\">\n",
       "  <thead>\n",
       "    <tr style=\"text-align: right;\">\n",
       "      <th></th>\n",
       "      <th>age</th>\n",
       "      <th>balance</th>\n",
       "      <th>day</th>\n",
       "      <th>duration</th>\n",
       "      <th>campaign</th>\n",
       "      <th>pdays</th>\n",
       "      <th>previous</th>\n",
       "    </tr>\n",
       "  </thead>\n",
       "  <tbody>\n",
       "    <tr>\n",
       "      <th>0</th>\n",
       "      <td>58</td>\n",
       "      <td>2143</td>\n",
       "      <td>5</td>\n",
       "      <td>261</td>\n",
       "      <td>1</td>\n",
       "      <td>-1</td>\n",
       "      <td>0</td>\n",
       "    </tr>\n",
       "    <tr>\n",
       "      <th>1</th>\n",
       "      <td>44</td>\n",
       "      <td>29</td>\n",
       "      <td>5</td>\n",
       "      <td>151</td>\n",
       "      <td>1</td>\n",
       "      <td>-1</td>\n",
       "      <td>0</td>\n",
       "    </tr>\n",
       "    <tr>\n",
       "      <th>2</th>\n",
       "      <td>33</td>\n",
       "      <td>2</td>\n",
       "      <td>5</td>\n",
       "      <td>76</td>\n",
       "      <td>1</td>\n",
       "      <td>-1</td>\n",
       "      <td>0</td>\n",
       "    </tr>\n",
       "    <tr>\n",
       "      <th>3</th>\n",
       "      <td>47</td>\n",
       "      <td>1506</td>\n",
       "      <td>5</td>\n",
       "      <td>92</td>\n",
       "      <td>1</td>\n",
       "      <td>-1</td>\n",
       "      <td>0</td>\n",
       "    </tr>\n",
       "    <tr>\n",
       "      <th>4</th>\n",
       "      <td>33</td>\n",
       "      <td>1</td>\n",
       "      <td>5</td>\n",
       "      <td>198</td>\n",
       "      <td>1</td>\n",
       "      <td>-1</td>\n",
       "      <td>0</td>\n",
       "    </tr>\n",
       "  </tbody>\n",
       "</table>\n",
       "</div>"
      ],
      "text/plain": [
       "   age  balance  day  duration  campaign  pdays  previous\n",
       "0   58     2143    5       261         1     -1         0\n",
       "1   44       29    5       151         1     -1         0\n",
       "2   33        2    5        76         1     -1         0\n",
       "3   47     1506    5        92         1     -1         0\n",
       "4   33        1    5       198         1     -1         0"
      ]
     },
     "execution_count": 16,
     "metadata": {},
     "output_type": "execute_result"
    }
   ],
   "source": [
    "numerical_features = [feature for feature in bank.columns if ((bank[feature].dtypes != 'O') & (feature not in ['deposit']))]\n",
    "print('Number of numerical variables: ', len(numerical_features))\n",
    "\n",
    "bank[numerical_features].head()"
   ]
  },
  {
   "cell_type": "markdown",
   "id": "42a43072",
   "metadata": {},
   "source": [
    "**Take-away**:\n",
    "- there are 7 numerical features"
   ]
  },
  {
   "cell_type": "code",
   "execution_count": 17,
   "id": "af7ff7b4",
   "metadata": {},
   "outputs": [
    {
     "name": "stdout",
     "output_type": "stream",
     "text": [
      "Discrete Variables Count: 0\n"
     ]
    }
   ],
   "source": [
    "discrete_feature=[feature for feature in numerical_features if len(bank[feature].unique())<25]\n",
    "print(\"Discrete Variables Count: {}\".format(len(discrete_feature)))"
   ]
  },
  {
   "cell_type": "markdown",
   "id": "b8a7f665",
   "metadata": {},
   "source": [
    "**Take-away**:\n",
    "- there is no Discrete Variables in give dataset"
   ]
  },
  {
   "cell_type": "markdown",
   "id": "90ec7bcd",
   "metadata": {},
   "source": [
    "**Finding Continous Numerical Features**"
   ]
  },
  {
   "cell_type": "code",
   "execution_count": 18,
   "id": "236370d3",
   "metadata": {},
   "outputs": [
    {
     "name": "stdout",
     "output_type": "stream",
     "text": [
      "Continuous feature Count 7\n"
     ]
    }
   ],
   "source": [
    "continuous_features=[feature for feature in numerical_features if feature not in discrete_feature+['deposit']]\n",
    "print(\"Continuous feature Count {}\".format(len(continuous_features)))"
   ]
  },
  {
   "cell_type": "markdown",
   "id": "e333731d",
   "metadata": {},
   "source": [
    "**Take-away**:\n",
    "- there are 7 continuous numerical features"
   ]
  },
  {
   "cell_type": "code",
   "execution_count": 19,
   "id": "c61699ec",
   "metadata": {},
   "outputs": [
    {
     "data": {
      "image/png": "[encoded data removed]",
      "text/plain": [
       "<Figure size 1440x4320 with 7 Axes>"
      ]
     },
     "metadata": {},
     "output_type": "display_data"
    }
   ],
   "source": [
    "plt.figure(figsize=(20,60), facecolor='white')\n",
    "plotnumber =1\n",
    "for continuous_feature in continuous_features:\n",
    "    ax = plt.subplot(12,3,plotnumber)\n",
    "    sns.distplot(bank[continuous_feature])\n",
    "    plt.xlabel(continuous_feature)\n",
    "    plotnumber+=1\n",
    "plt.show()"
   ]
  },
  {
   "cell_type": "markdown",
   "id": "ae194f23",
   "metadata": {},
   "source": [
    "**Take-away**: \n",
    "- it seems age, days distributed normally\n",
    "- balance, duration, compaign, pdays and previous heavely skewed towards left and seems to be have some outliers."
   ]
  },
  {
   "cell_type": "markdown",
   "id": "2d31d712",
   "metadata": {},
   "source": [
    "**Relation between Continous numerical Features and Labels**"
   ]
  },
  {
   "cell_type": "code",
   "execution_count": 20,
   "id": "833acd24",
   "metadata": {},
   "outputs": [
    {
     "data": {
      "image/png": "[encoded data removed]",
      "text/plain": [
       "<Figure size 1440x4320 with 7 Axes>"
      ]
     },
     "metadata": {},
     "output_type": "display_data"
    }
   ],
   "source": [
    "plt.figure(figsize=(20,60), facecolor='white')\n",
    "plotnumber =1\n",
    "for feature in continuous_features:\n",
    "    ax = plt.subplot(12,3,plotnumber)\n",
    "    sns.boxplot(x=\"deposit\", y= bank[feature], data=bank)\n",
    "    plt.xlabel(feature)\n",
    "    plotnumber+=1\n",
    "plt.show()"
   ]
  },
  {
   "cell_type": "markdown",
   "id": "e1c1b3b8",
   "metadata": {},
   "source": [
    "**Take-away**:\n",
    "- client shows interest on deposit who had discussion for longer duration"
   ]
  },
  {
   "cell_type": "markdown",
   "id": "e3aead85",
   "metadata": {},
   "source": [
    "**Explore the Correlation between numerical features**"
   ]
  },
  {
   "cell_type": "code",
   "execution_count": 21,
   "id": "34f96578",
   "metadata": {},
   "outputs": [
    {
     "data": {
      "text/plain": [
       "<Axes: >"
      ]
     },
     "execution_count": 21,
     "metadata": {},
     "output_type": "execute_result"
    },
    {
     "data": {
      "image/png": "[encoded data removed]",
      "text/plain": [
       "<Figure size 1080x504 with 2 Axes>"
      ]
     },
     "metadata": {
      "needs_background": "light"
     },
     "output_type": "display_data"
    }
   ],
   "source": [
    "cor_mat=bank.corr()\n",
    "fig = plt.figure(figsize=(15,7))\n",
    "sns.heatmap(cor_mat,annot=True)"
   ]
  },
  {
   "cell_type": "markdown",
   "id": "c9d6b89d",
   "metadata": {},
   "source": [
    "**Take-away**: \n",
    "- it seems no feature is heavily correlated with other features"
   ]
  },
  {
   "cell_type": "markdown",
   "id": "a4bb8e86",
   "metadata": {},
   "source": [
    "# Feature Engineering"
   ]
  },
  {
   "cell_type": "markdown",
   "id": "8cabc69e",
   "metadata": {},
   "source": [
    "- Drop unwanted Features\n",
    "- Handle Missing Values\n",
    "- Handle Categorical Features\n",
    "- Handle Feature Scalling\n",
    "- Remove Outliers"
   ]
  },
  {
   "cell_type": "markdown",
   "id": "60849be9",
   "metadata": {},
   "source": [
    "As per Exploratory Data Analysis EDA, \n",
    "- no missing value found\n",
    "- no feature found with one value\n",
    "- 9 categorical features\n",
    "- defaut features does not play imp role\n",
    "- it seems some outliers found (age, balance, duration, compaign, pdays and previous has some outliers)"
   ]
  },
  {
   "cell_type": "code",
   "execution_count": 22,
   "id": "2ba14733",
   "metadata": {},
   "outputs": [
    {
     "data": {
      "text/html": [
       "<div>\n",
       "<style scoped>\n",
       "    .dataframe tbody tr th:only-of-type {\n",
       "        vertical-align: middle;\n",
       "    }\n",
       "\n",
       "    .dataframe tbody tr th {\n",
       "        vertical-align: top;\n",
       "    }\n",
       "\n",
       "    .dataframe thead th {\n",
       "        text-align: right;\n",
       "    }\n",
       "</style>\n",
       "<table border=\"1\" class=\"dataframe\">\n",
       "  <thead>\n",
       "    <tr style=\"text-align: right;\">\n",
       "      <th></th>\n",
       "      <th>age</th>\n",
       "      <th>job</th>\n",
       "      <th>marital</th>\n",
       "      <th>education</th>\n",
       "      <th>default</th>\n",
       "      <th>balance</th>\n",
       "      <th>housing</th>\n",
       "      <th>loan</th>\n",
       "      <th>contact</th>\n",
       "      <th>day</th>\n",
       "      <th>month</th>\n",
       "      <th>duration</th>\n",
       "      <th>campaign</th>\n",
       "      <th>pdays</th>\n",
       "      <th>previous</th>\n",
       "      <th>poutcome</th>\n",
       "      <th>deposit</th>\n",
       "    </tr>\n",
       "  </thead>\n",
       "  <tbody>\n",
       "    <tr>\n",
       "      <th>0</th>\n",
       "      <td>58</td>\n",
       "      <td>management</td>\n",
       "      <td>married</td>\n",
       "      <td>tertiary</td>\n",
       "      <td>no</td>\n",
       "      <td>2143</td>\n",
       "      <td>yes</td>\n",
       "      <td>no</td>\n",
       "      <td>unknown</td>\n",
       "      <td>5</td>\n",
       "      <td>may</td>\n",
       "      <td>261</td>\n",
       "      <td>1</td>\n",
       "      <td>-1</td>\n",
       "      <td>0</td>\n",
       "      <td>unknown</td>\n",
       "      <td>no</td>\n",
       "    </tr>\n",
       "    <tr>\n",
       "      <th>1</th>\n",
       "      <td>44</td>\n",
       "      <td>technician</td>\n",
       "      <td>single</td>\n",
       "      <td>secondary</td>\n",
       "      <td>no</td>\n",
       "      <td>29</td>\n",
       "      <td>yes</td>\n",
       "      <td>no</td>\n",
       "      <td>unknown</td>\n",
       "      <td>5</td>\n",
       "      <td>may</td>\n",
       "      <td>151</td>\n",
       "      <td>1</td>\n",
       "      <td>-1</td>\n",
       "      <td>0</td>\n",
       "      <td>unknown</td>\n",
       "      <td>no</td>\n",
       "    </tr>\n",
       "    <tr>\n",
       "      <th>2</th>\n",
       "      <td>33</td>\n",
       "      <td>entrepreneur</td>\n",
       "      <td>married</td>\n",
       "      <td>secondary</td>\n",
       "      <td>no</td>\n",
       "      <td>2</td>\n",
       "      <td>yes</td>\n",
       "      <td>yes</td>\n",
       "      <td>unknown</td>\n",
       "      <td>5</td>\n",
       "      <td>may</td>\n",
       "      <td>76</td>\n",
       "      <td>1</td>\n",
       "      <td>-1</td>\n",
       "      <td>0</td>\n",
       "      <td>unknown</td>\n",
       "      <td>no</td>\n",
       "    </tr>\n",
       "    <tr>\n",
       "      <th>3</th>\n",
       "      <td>47</td>\n",
       "      <td>blue-collar</td>\n",
       "      <td>married</td>\n",
       "      <td>unknown</td>\n",
       "      <td>no</td>\n",
       "      <td>1506</td>\n",
       "      <td>yes</td>\n",
       "      <td>no</td>\n",
       "      <td>unknown</td>\n",
       "      <td>5</td>\n",
       "      <td>may</td>\n",
       "      <td>92</td>\n",
       "      <td>1</td>\n",
       "      <td>-1</td>\n",
       "      <td>0</td>\n",
       "      <td>unknown</td>\n",
       "      <td>no</td>\n",
       "    </tr>\n",
       "    <tr>\n",
       "      <th>4</th>\n",
       "      <td>33</td>\n",
       "      <td>unknown</td>\n",
       "      <td>single</td>\n",
       "      <td>unknown</td>\n",
       "      <td>no</td>\n",
       "      <td>1</td>\n",
       "      <td>no</td>\n",
       "      <td>no</td>\n",
       "      <td>unknown</td>\n",
       "      <td>5</td>\n",
       "      <td>may</td>\n",
       "      <td>198</td>\n",
       "      <td>1</td>\n",
       "      <td>-1</td>\n",
       "      <td>0</td>\n",
       "      <td>unknown</td>\n",
       "      <td>no</td>\n",
       "    </tr>\n",
       "  </tbody>\n",
       "</table>\n",
       "</div>"
      ],
      "text/plain": [
       "   age           job  marital  education default  balance housing loan  \\\n",
       "0   58    management  married   tertiary      no     2143     yes   no   \n",
       "1   44    technician   single  secondary      no       29     yes   no   \n",
       "2   33  entrepreneur  married  secondary      no        2     yes  yes   \n",
       "3   47   blue-collar  married    unknown      no     1506     yes   no   \n",
       "4   33       unknown   single    unknown      no        1      no   no   \n",
       "\n",
       "   contact  day month  duration  campaign  pdays  previous poutcome deposit  \n",
       "0  unknown    5   may       261         1     -1         0  unknown      no  \n",
       "1  unknown    5   may       151         1     -1         0  unknown      no  \n",
       "2  unknown    5   may        76         1     -1         0  unknown      no  \n",
       "3  unknown    5   may        92         1     -1         0  unknown      no  \n",
       "4  unknown    5   may       198         1     -1         0  unknown      no  "
      ]
     },
     "execution_count": 22,
     "metadata": {},
     "output_type": "execute_result"
    }
   ],
   "source": [
    "df=bank.copy()\n",
    "df.head()"
   ]
  },
  {
   "cell_type": "code",
   "execution_count": 23,
   "id": "ae272cc8",
   "metadata": {},
   "outputs": [
    {
     "data": {
      "text/plain": [
       "(45211, 17)"
      ]
     },
     "execution_count": 23,
     "metadata": {},
     "output_type": "execute_result"
    }
   ],
   "source": [
    "df.shape"
   ]
  },
  {
   "cell_type": "code",
   "execution_count": 24,
   "id": "61469ed0",
   "metadata": {},
   "outputs": [
    {
     "data": {
      "text/plain": [
       "deposit  default\n",
       "no       no         39159\n",
       "         yes          763\n",
       "yes      no          5237\n",
       "         yes           52\n",
       "dtype: int64"
      ]
     },
     "execution_count": 24,
     "metadata": {},
     "output_type": "execute_result"
    }
   ],
   "source": [
    "df.groupby(['deposit','default']).size()"
   ]
  },
  {
   "cell_type": "code",
   "execution_count": 25,
   "id": "9f9c41ba",
   "metadata": {},
   "outputs": [],
   "source": [
    "df.drop(['default'],axis=1, inplace=True)"
   ]
  },
  {
   "cell_type": "code",
   "execution_count": 26,
   "id": "89df14a7",
   "metadata": {},
   "outputs": [
    {
     "data": {
      "text/plain": [
       "deposit  pdays\n",
       "no       -1       33570\n",
       "          1           9\n",
       "          2          35\n",
       "          3           1\n",
       "          4           1\n",
       "                  ...  \n",
       "yes       804         1\n",
       "          805         1\n",
       "          828         1\n",
       "          842         1\n",
       "          854         1\n",
       "Length: 914, dtype: int64"
      ]
     },
     "execution_count": 26,
     "metadata": {},
     "output_type": "execute_result"
    }
   ],
   "source": [
    "df.groupby(['deposit','pdays']).size()"
   ]
  },
  {
   "cell_type": "code",
   "execution_count": 27,
   "id": "ebfe2d0e",
   "metadata": {},
   "outputs": [],
   "source": [
    "df.drop(['pdays'],axis=1, inplace=True)"
   ]
  },
  {
   "cell_type": "code",
   "execution_count": 28,
   "id": "e6c64573",
   "metadata": {},
   "outputs": [
    {
     "data": {
      "text/plain": [
       "age\n",
       "18     12\n",
       "19     35\n",
       "20     50\n",
       "21     79\n",
       "22    129\n",
       "     ... \n",
       "90      2\n",
       "92      2\n",
       "93      2\n",
       "94      1\n",
       "95      2\n",
       "Name: age, Length: 77, dtype: int64"
      ]
     },
     "execution_count": 28,
     "metadata": {},
     "output_type": "execute_result"
    }
   ],
   "source": [
    "df.groupby('age',sort=True)['age'].count()"
   ]
  },
  {
   "cell_type": "code",
   "execution_count": 29,
   "id": "19cff363",
   "metadata": {},
   "outputs": [
    {
     "data": {
      "text/plain": [
       "deposit  balance\n",
       "no       -8019      1\n",
       "         -6847      1\n",
       "         -4057      1\n",
       "         -3372      1\n",
       "         -3313      1\n",
       "                   ..\n",
       "yes       34646     1\n",
       "          36252     1\n",
       "          45248     1\n",
       "          52587     2\n",
       "          81204     2\n",
       "Name: balance, Length: 9258, dtype: int64"
      ]
     },
     "execution_count": 29,
     "metadata": {},
     "output_type": "execute_result"
    }
   ],
   "source": [
    "df.groupby(['deposit','balance'],sort=True)['balance'].count()"
   ]
  },
  {
   "cell_type": "code",
   "execution_count": 30,
   "id": "98382ef5",
   "metadata": {},
   "outputs": [
    {
     "data": {
      "text/plain": [
       "deposit  duration\n",
       "no       0            3\n",
       "         1            2\n",
       "         2            3\n",
       "         3            4\n",
       "         4           15\n",
       "                     ..\n",
       "yes      3094         1\n",
       "         3102         1\n",
       "         3183         1\n",
       "         3253         1\n",
       "         3881         1\n",
       "Name: duration, Length: 2627, dtype: int64"
      ]
     },
     "execution_count": 30,
     "metadata": {},
     "output_type": "execute_result"
    }
   ],
   "source": [
    "df.groupby(['deposit','duration'],sort=True)['duration'].count()"
   ]
  },
  {
   "cell_type": "code",
   "execution_count": 31,
   "id": "29955e66",
   "metadata": {},
   "outputs": [
    {
     "data": {
      "text/plain": [
       "deposit  campaign\n",
       "no       1           14983\n",
       "         2           11104\n",
       "         3            4903\n",
       "         4            3205\n",
       "         5            1625\n",
       "                     ...  \n",
       "yes      20              1\n",
       "         21              1\n",
       "         24              1\n",
       "         29              1\n",
       "         32              1\n",
       "Name: campaign, Length: 70, dtype: int64"
      ]
     },
     "execution_count": 31,
     "metadata": {},
     "output_type": "execute_result"
    }
   ],
   "source": [
    "df.groupby(['deposit','campaign'],sort=True)['campaign'].count()"
   ]
  },
  {
   "cell_type": "code",
   "execution_count": 32,
   "id": "502d58ce",
   "metadata": {},
   "outputs": [],
   "source": [
    "df1 = df[df['campaign'] < 33]"
   ]
  },
  {
   "cell_type": "code",
   "execution_count": 33,
   "id": "1932b53c",
   "metadata": {},
   "outputs": [
    {
     "data": {
      "text/plain": [
       "deposit  campaign\n",
       "no       1           14983\n",
       "         2           11104\n",
       "         3            4903\n",
       "         4            3205\n",
       "         5            1625\n",
       "         6            1199\n",
       "         7             688\n",
       "         8             508\n",
       "         9             306\n",
       "         10            252\n",
       "         11            185\n",
       "         12            151\n",
       "         13            127\n",
       "         14             89\n",
       "         15             80\n",
       "         16             77\n",
       "         17             63\n",
       "         18             51\n",
       "         19             44\n",
       "         20             42\n",
       "         21             34\n",
       "         22             23\n",
       "         23             22\n",
       "         24             19\n",
       "         25             22\n",
       "         26             13\n",
       "         27             10\n",
       "         28             16\n",
       "         29             15\n",
       "         30              8\n",
       "         31             12\n",
       "         32              8\n",
       "yes      1            2561\n",
       "         2            1401\n",
       "         3             618\n",
       "         4             317\n",
       "         5             139\n",
       "         6              92\n",
       "         7              47\n",
       "         8              32\n",
       "         9              21\n",
       "         10             14\n",
       "         11             16\n",
       "         12              4\n",
       "         13              6\n",
       "         14              4\n",
       "         15              4\n",
       "         16              2\n",
       "         17              6\n",
       "         20              1\n",
       "         21              1\n",
       "         24              1\n",
       "         29              1\n",
       "         32              1\n",
       "Name: campaign, dtype: int64"
      ]
     },
     "execution_count": 33,
     "metadata": {},
     "output_type": "execute_result"
    }
   ],
   "source": [
    "df1.groupby(['deposit','campaign'],sort=True)['campaign'].count()"
   ]
  },
  {
   "cell_type": "code",
   "execution_count": 34,
   "id": "ff3990f5",
   "metadata": {},
   "outputs": [
    {
     "data": {
      "text/plain": [
       "deposit  previous\n",
       "no       0           33532\n",
       "         1            2189\n",
       "         2            1650\n",
       "         3             848\n",
       "         4             543\n",
       "                     ...  \n",
       "yes      26              1\n",
       "         29              1\n",
       "         30              1\n",
       "         55              1\n",
       "         58              1\n",
       "Name: previous, Length: 66, dtype: int64"
      ]
     },
     "execution_count": 34,
     "metadata": {},
     "output_type": "execute_result"
    }
   ],
   "source": [
    "df1.groupby(['deposit','previous'],sort=True)['previous'].count()"
   ]
  },
  {
   "cell_type": "code",
   "execution_count": 35,
   "id": "2f204c97",
   "metadata": {},
   "outputs": [],
   "source": [
    "df2 = df1[df1['previous'] < 31]"
   ]
  },
  {
   "cell_type": "code",
   "execution_count": 36,
   "id": "db400dff",
   "metadata": {},
   "outputs": [],
   "source": [
    "cat_columns = ['job', 'marital', 'education', 'contact', 'month', 'poutcome']\n",
    "for col in  cat_columns:\n",
    "    df2 = pd.concat([df2.drop(col, axis=1),pd.get_dummies(df2[col], prefix=col, prefix_sep='_',drop_first=True, dummy_na=False)], axis=1)"
   ]
  },
  {
   "cell_type": "code",
   "execution_count": 37,
   "id": "98371e6c",
   "metadata": {},
   "outputs": [],
   "source": [
    "bool_columns = ['housing', 'loan', 'deposit']\n",
    "for col in  bool_columns:\n",
    "    df2[col+'_new']=df2[col].apply(lambda x : 1 if x == 'yes' else 0)\n",
    "    df2.drop(col, axis=1, inplace=True)"
   ]
  },
  {
   "cell_type": "code",
   "execution_count": 38,
   "id": "1bb5628e",
   "metadata": {},
   "outputs": [
    {
     "data": {
      "text/html": [
       "<div>\n",
       "<style scoped>\n",
       "    .dataframe tbody tr th:only-of-type {\n",
       "        vertical-align: middle;\n",
       "    }\n",
       "\n",
       "    .dataframe tbody tr th {\n",
       "        vertical-align: top;\n",
       "    }\n",
       "\n",
       "    .dataframe thead th {\n",
       "        text-align: right;\n",
       "    }\n",
       "</style>\n",
       "<table border=\"1\" class=\"dataframe\">\n",
       "  <thead>\n",
       "    <tr style=\"text-align: right;\">\n",
       "      <th></th>\n",
       "      <th>age</th>\n",
       "      <th>balance</th>\n",
       "      <th>day</th>\n",
       "      <th>duration</th>\n",
       "      <th>campaign</th>\n",
       "      <th>previous</th>\n",
       "      <th>job_blue-collar</th>\n",
       "      <th>job_entrepreneur</th>\n",
       "      <th>job_housemaid</th>\n",
       "      <th>job_management</th>\n",
       "      <th>...</th>\n",
       "      <th>month_may</th>\n",
       "      <th>month_nov</th>\n",
       "      <th>month_oct</th>\n",
       "      <th>month_sep</th>\n",
       "      <th>poutcome_other</th>\n",
       "      <th>poutcome_success</th>\n",
       "      <th>poutcome_unknown</th>\n",
       "      <th>housing_new</th>\n",
       "      <th>loan_new</th>\n",
       "      <th>deposit_new</th>\n",
       "    </tr>\n",
       "  </thead>\n",
       "  <tbody>\n",
       "    <tr>\n",
       "      <th>0</th>\n",
       "      <td>58</td>\n",
       "      <td>2143</td>\n",
       "      <td>5</td>\n",
       "      <td>261</td>\n",
       "      <td>1</td>\n",
       "      <td>0</td>\n",
       "      <td>0</td>\n",
       "      <td>0</td>\n",
       "      <td>0</td>\n",
       "      <td>1</td>\n",
       "      <td>...</td>\n",
       "      <td>1</td>\n",
       "      <td>0</td>\n",
       "      <td>0</td>\n",
       "      <td>0</td>\n",
       "      <td>0</td>\n",
       "      <td>0</td>\n",
       "      <td>1</td>\n",
       "      <td>1</td>\n",
       "      <td>0</td>\n",
       "      <td>0</td>\n",
       "    </tr>\n",
       "    <tr>\n",
       "      <th>1</th>\n",
       "      <td>44</td>\n",
       "      <td>29</td>\n",
       "      <td>5</td>\n",
       "      <td>151</td>\n",
       "      <td>1</td>\n",
       "      <td>0</td>\n",
       "      <td>0</td>\n",
       "      <td>0</td>\n",
       "      <td>0</td>\n",
       "      <td>0</td>\n",
       "      <td>...</td>\n",
       "      <td>1</td>\n",
       "      <td>0</td>\n",
       "      <td>0</td>\n",
       "      <td>0</td>\n",
       "      <td>0</td>\n",
       "      <td>0</td>\n",
       "      <td>1</td>\n",
       "      <td>1</td>\n",
       "      <td>0</td>\n",
       "      <td>0</td>\n",
       "    </tr>\n",
       "    <tr>\n",
       "      <th>2</th>\n",
       "      <td>33</td>\n",
       "      <td>2</td>\n",
       "      <td>5</td>\n",
       "      <td>76</td>\n",
       "      <td>1</td>\n",
       "      <td>0</td>\n",
       "      <td>0</td>\n",
       "      <td>1</td>\n",
       "      <td>0</td>\n",
       "      <td>0</td>\n",
       "      <td>...</td>\n",
       "      <td>1</td>\n",
       "      <td>0</td>\n",
       "      <td>0</td>\n",
       "      <td>0</td>\n",
       "      <td>0</td>\n",
       "      <td>0</td>\n",
       "      <td>1</td>\n",
       "      <td>1</td>\n",
       "      <td>1</td>\n",
       "      <td>0</td>\n",
       "    </tr>\n",
       "    <tr>\n",
       "      <th>3</th>\n",
       "      <td>47</td>\n",
       "      <td>1506</td>\n",
       "      <td>5</td>\n",
       "      <td>92</td>\n",
       "      <td>1</td>\n",
       "      <td>0</td>\n",
       "      <td>1</td>\n",
       "      <td>0</td>\n",
       "      <td>0</td>\n",
       "      <td>0</td>\n",
       "      <td>...</td>\n",
       "      <td>1</td>\n",
       "      <td>0</td>\n",
       "      <td>0</td>\n",
       "      <td>0</td>\n",
       "      <td>0</td>\n",
       "      <td>0</td>\n",
       "      <td>1</td>\n",
       "      <td>1</td>\n",
       "      <td>0</td>\n",
       "      <td>0</td>\n",
       "    </tr>\n",
       "    <tr>\n",
       "      <th>4</th>\n",
       "      <td>33</td>\n",
       "      <td>1</td>\n",
       "      <td>5</td>\n",
       "      <td>198</td>\n",
       "      <td>1</td>\n",
       "      <td>0</td>\n",
       "      <td>0</td>\n",
       "      <td>0</td>\n",
       "      <td>0</td>\n",
       "      <td>0</td>\n",
       "      <td>...</td>\n",
       "      <td>1</td>\n",
       "      <td>0</td>\n",
       "      <td>0</td>\n",
       "      <td>0</td>\n",
       "      <td>0</td>\n",
       "      <td>0</td>\n",
       "      <td>1</td>\n",
       "      <td>0</td>\n",
       "      <td>0</td>\n",
       "      <td>0</td>\n",
       "    </tr>\n",
       "  </tbody>\n",
       "</table>\n",
       "<p>5 rows × 41 columns</p>\n",
       "</div>"
      ],
      "text/plain": [
       "   age  balance  day  duration  campaign  previous  job_blue-collar  \\\n",
       "0   58     2143    5       261         1         0                0   \n",
       "1   44       29    5       151         1         0                0   \n",
       "2   33        2    5        76         1         0                0   \n",
       "3   47     1506    5        92         1         0                1   \n",
       "4   33        1    5       198         1         0                0   \n",
       "\n",
       "   job_entrepreneur  job_housemaid  job_management  ...  month_may  month_nov  \\\n",
       "0                 0              0               1  ...          1          0   \n",
       "1                 0              0               0  ...          1          0   \n",
       "2                 1              0               0  ...          1          0   \n",
       "3                 0              0               0  ...          1          0   \n",
       "4                 0              0               0  ...          1          0   \n",
       "\n",
       "   month_oct  month_sep  poutcome_other  poutcome_success  poutcome_unknown  \\\n",
       "0          0          0               0                 0                 1   \n",
       "1          0          0               0                 0                 1   \n",
       "2          0          0               0                 0                 1   \n",
       "3          0          0               0                 0                 1   \n",
       "4          0          0               0                 0                 1   \n",
       "\n",
       "   housing_new  loan_new  deposit_new  \n",
       "0            1         0            0  \n",
       "1            1         0            0  \n",
       "2            1         1            0  \n",
       "3            1         0            0  \n",
       "4            0         0            0  \n",
       "\n",
       "[5 rows x 41 columns]"
      ]
     },
     "execution_count": 38,
     "metadata": {},
     "output_type": "execute_result"
    }
   ],
   "source": [
    "df2.head()"
   ]
  },
  {
   "cell_type": "markdown",
   "id": "df555c69",
   "metadata": {},
   "source": [
    "# Splitting Dataset into Training set and Test set"
   ]
  },
  {
   "cell_type": "code",
   "execution_count": 39,
   "id": "345fc6b2",
   "metadata": {},
   "outputs": [],
   "source": [
    "X = df2.drop(['deposit_new'],axis=1)\n",
    "y = df2['deposit_new']\n",
    "from sklearn.model_selection import train_test_split\n",
    "X_train, X_test, y_train, y_test = train_test_split(X,y,test_size=0.2, random_state=0)"
   ]
  },
  {
   "cell_type": "code",
   "execution_count": 40,
   "id": "ef227573",
   "metadata": {},
   "outputs": [
    {
     "data": {
      "text/plain": [
       "36128"
      ]
     },
     "execution_count": 40,
     "metadata": {},
     "output_type": "execute_result"
    }
   ],
   "source": [
    "len(X_train)"
   ]
  },
  {
   "cell_type": "code",
   "execution_count": 41,
   "id": "969e2e48",
   "metadata": {},
   "outputs": [
    {
     "data": {
      "text/plain": [
       "9033"
      ]
     },
     "execution_count": 41,
     "metadata": {},
     "output_type": "execute_result"
    }
   ],
   "source": [
    "len(X_test)"
   ]
  },
  {
   "cell_type": "markdown",
   "id": "86d6945a",
   "metadata": {},
   "source": [
    "# Model Selection"
   ]
  },
  {
   "cell_type": "code",
   "execution_count": 42,
   "id": "6a53dea2",
   "metadata": {},
   "outputs": [],
   "source": [
    "from sklearn.ensemble import RandomForestClassifier\n",
    "from xgboost import XGBClassifier\n",
    "from sklearn.model_selection import GridSearchCV"
   ]
  },
  {
   "cell_type": "code",
   "execution_count": 43,
   "id": "53eaa01d",
   "metadata": {},
   "outputs": [
    {
     "name": "stdout",
     "output_type": "stream",
     "text": [
      "[0.90893994 0.90603377 0.90077498 0.90519031 0.90588235]\n",
      "0.9053642699325868\n"
     ]
    }
   ],
   "source": [
    "from sklearn.model_selection import cross_val_score\n",
    "model_score =cross_val_score(estimator=RandomForestClassifier(),X=X_train, y=y_train, cv=5)\n",
    "print(model_score)\n",
    "print(model_score.mean())"
   ]
  },
  {
   "cell_type": "code",
   "execution_count": 44,
   "id": "1a1b373f",
   "metadata": {},
   "outputs": [
    {
     "name": "stdout",
     "output_type": "stream",
     "text": [
      "[0.90783283 0.90617216 0.9017437  0.90906574 0.90311419]\n",
      "0.9055857232197839\n"
     ]
    }
   ],
   "source": [
    "from sklearn.model_selection import cross_val_score\n",
    "model_score =cross_val_score(estimator=XGBClassifier(),X=X_train, y=y_train, cv=5)\n",
    "print(model_score)\n",
    "print(model_score.mean())"
   ]
  },
  {
   "cell_type": "code",
   "execution_count": 45,
   "id": "59dcf1a9",
   "metadata": {},
   "outputs": [],
   "source": [
    "model_param = {\n",
    "    'RandomForestClassifier':{\n",
    "        'model':RandomForestClassifier(),\n",
    "        'param':{\n",
    "            'n_estimators': [10, 50, 100, 130], \n",
    "            'criterion': ['gini', 'entropy'],\n",
    "            'max_depth': range(2, 4, 1), \n",
    "            'max_features': ['auto', 'log2']\n",
    "        }\n",
    "    },\n",
    "    'XGBClassifier':{\n",
    "        'model':XGBClassifier(objective='binary:logistic'),\n",
    "        'param':{\n",
    "           'learning_rate': [0.5, 0.1, 0.01, 0.001],\n",
    "            'max_depth': [3, 5, 10, 20],\n",
    "            'n_estimators': [10, 50, 100, 200]\n",
    "        }\n",
    "    }\n",
    "}"
   ]
  },
  {
   "cell_type": "markdown",
   "id": "96aef1a1",
   "metadata": {},
   "source": [
    "# Model Building \n",
    "\n",
    "as per above results, xgboost gives best result and hence selecting same to model building..."
   ]
  },
  {
   "cell_type": "code",
   "execution_count": 46,
   "id": "9513d371",
   "metadata": {},
   "outputs": [],
   "source": [
    "model_xgb = XGBClassifier(objective='binary:logistic',learning_rate=0.1,max_depth=10,n_estimators=100)"
   ]
  },
  {
   "cell_type": "code",
   "execution_count": 47,
   "id": "9f17849b",
   "metadata": {},
   "outputs": [
    {
     "data": {
      "text/plain": [
       "XGBClassifier(base_score=None, booster=None, callbacks=None,\n",
       "              colsample_bylevel=None, colsample_bynode=None,\n",
       "              colsample_bytree=None, early_stopping_rounds=None,\n",
       "              enable_categorical=False, eval_metric=None, feature_types=None,\n",
       "              gamma=None, gpu_id=None, grow_policy=None, importance_type=None,\n",
       "              interaction_constraints=None, learning_rate=0.1, max_bin=None,\n",
       "              max_cat_threshold=None, max_cat_to_onehot=None,\n",
       "              max_delta_step=None, max_depth=10, max_leaves=None,\n",
       "              min_child_weight=None, missing=nan, monotone_constraints=None,\n",
       "              n_estimators=100, n_jobs=None, num_parallel_tree=None,\n",
       "              predictor=None, random_state=None, ...)"
      ]
     },
     "execution_count": 47,
     "metadata": {},
     "output_type": "execute_result"
    }
   ],
   "source": [
    "model_xgb.fit(X_train,y_train)"
   ]
  },
  {
   "cell_type": "code",
   "execution_count": 48,
   "id": "30fa22f2",
   "metadata": {},
   "outputs": [
    {
     "data": {
      "text/plain": [
       "0.899147570021034"
      ]
     },
     "execution_count": 48,
     "metadata": {},
     "output_type": "execute_result"
    }
   ],
   "source": [
    "model_xgb.score(X_test,y_test)"
   ]
  },
  {
   "cell_type": "markdown",
   "id": "0d9f5545",
   "metadata": {},
   "source": [
    "### Get feature importances from the model"
   ]
  },
  {
   "cell_type": "code",
   "execution_count": 49,
   "id": "7b909aca",
   "metadata": {},
   "outputs": [
    {
     "data": {
      "image/png": "[encoded data removed]",
      "text/plain": [
       "<Figure size 1080x504 with 1 Axes>"
      ]
     },
     "metadata": {
      "needs_background": "light"
     },
     "output_type": "display_data"
    }
   ],
   "source": [
    "headers = [\"name\", \"score\"]\n",
    "values = sorted(zip(X_train.columns, model_xgb.feature_importances_), key=lambda x: x[1] * -1)\n",
    "xgb_feature_importances = pd.DataFrame(values, columns = headers)\n",
    "\n",
    "fig = plt.figure(figsize=(15,7))\n",
    "x_pos = np.arange(0, len(xgb_feature_importances))\n",
    "plt.bar(x_pos, xgb_feature_importances['score'])\n",
    "plt.xticks(x_pos, xgb_feature_importances['name'])\n",
    "plt.xticks(rotation=90)\n",
    "plt.title('Feature importances (XGB)')\n",
    "\n",
    "plt.show()"
   ]
  },
  {
   "cell_type": "code",
   "execution_count": 53,
   "id": "7525e9db",
   "metadata": {},
   "outputs": [
    {
     "data": {
      "text/plain": [
       "array([[7606,  344],\n",
       "       [ 567,  516]], dtype=int64)"
      ]
     },
     "execution_count": 53,
     "metadata": {},
     "output_type": "execute_result"
    }
   ],
   "source": [
    "#Confusion Matrix\n",
    "from sklearn.metrics import confusion_matrix\n",
    "cm = confusion_matrix(y_test,model_xgb.predict(X_test))\n",
    "cm"
   ]
  },
  {
   "cell_type": "code",
   "execution_count": 54,
   "id": "82cc4c4e",
   "metadata": {},
   "outputs": [
    {
     "name": "stdout",
     "output_type": "stream",
     "text": [
      "Accuracy: 89.91%\n"
     ]
    }
   ],
   "source": [
    "true_negatives = cm[0, 0]\n",
    "false_positives = cm[0, 1]\n",
    "false_negatives = cm[1, 0]\n",
    "true_positives = cm[1, 1]\n",
    "\n",
    "total_predictions = true_negatives + false_positives + false_negatives + true_positives\n",
    "accuracy = (true_positives + true_negatives) / total_predictions\n",
    "\n",
    "print(\"Accuracy: {:.2%}\".format(accuracy))\n"
   ]
  },
  {
   "cell_type": "markdown",
   "id": "5096a568",
   "metadata": {},
   "source": [
    "# Conclusion"
   ]
  },
  {
   "cell_type": "markdown",
   "id": "af58020d",
   "metadata": {},
   "source": [
    "Through this project, we created a machine learning model that is able to predict how likely clients will subscribe to a bank term deposit. The best model was gradient boosting classifier with optimized hyperparameters. The model's performance is 90%.\n",
    "\n",
    "We should focus on targeting customers with consumer price index and 3 month indicator for paying off loans as they are high importance features for the model and business.\n",
    "\n",
    "Based on the analysis, individuals who engage in extended conversations exhibit a higher inclination towards accepting the term deposit and are more likely to subscribe. Therefore, it is advisable to prolong the duration of the conversation in order to maximize the potential for a successful subscription.\n",
    "\n",
    "Therefore, we save time and money knowing the characteristics of clients we should market to and that will lead to increased growth and revenue."
   ]
  }
 ],
 "metadata": {
  "kernelspec": {
   "display_name": "Python 3 (ipykernel)",
   "language": "python",
   "name": "python3"
  },
  "language_info": {
   "codemirror_mode": {
    "name": "ipython",
    "version": 3
   },
   "file_extension": ".py",
   "mimetype": "text/x-python",
   "name": "python",
   "nbconvert_exporter": "python",
   "pygments_lexer": "ipython3",
   "version": "3.9.12"
  }
 },
 "nbformat": 4,
 "nbformat_minor": 5
}
